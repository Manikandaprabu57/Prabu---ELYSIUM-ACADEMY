{
  "nbformat": 4,
  "nbformat_minor": 0,
  "metadata": {
    "colab": {
      "provenance": []
    },
    "kernelspec": {
      "name": "python3",
      "display_name": "Python 3"
    },
    "language_info": {
      "name": "python"
    }
  },
  "cells": [
    {
      "cell_type": "markdown",
      "source": [
        "***DATA LOADING***"
      ],
      "metadata": {
        "id": "wfESGDkpSaGN"
      }
    },
    {
      "cell_type": "code",
      "execution_count": 129,
      "metadata": {
        "id": "C9ni2n9smtDu",
        "colab": {
          "base_uri": "https://localhost:8080/"
        },
        "outputId": "700c3711-0595-4fa0-e4a1-a375099060b7"
      },
      "outputs": [
        {
          "output_type": "stream",
          "name": "stdout",
          "text": [
            "~~~~~~~~~~~~~~~~~~~~~~~~~~~  DATA LOADING  ~~~~~~~~~~~~~~~~~~~~~~~~~~~~~ \n",
            "\n",
            "       DATE     USD\n",
            "0      3122  4.0424\n",
            "1      4122  4.0468\n",
            "2      5122  4.0396\n",
            "3      7122  4.0279\n",
            "4     10122  4.0064\n",
            "..      ...     ...\n",
            "498  211223  3.9645\n",
            "499  221223  3.9338\n",
            "500  271223  3.9178\n",
            "501  281223  3.8990\n",
            "502  291223  3.9350\n",
            "\n",
            "[503 rows x 2 columns]\n"
          ]
        }
      ],
      "source": [
        "print(\"~~~~~~~~~~~~~~~~~~~~~~~~~~~  DATA LOADING  ~~~~~~~~~~~~~~~~~~~~~~~~~~~~~\",\"\\n\")\n",
        "import pandas as pd\n",
        "import numpy as np\n",
        "a = pd.read_csv(\"/content/Gold rate.csv\")\n",
        "print(a)\n"
      ]
    },
    {
      "cell_type": "markdown",
      "source": [
        "***DATA PREPROCESSING***"
      ],
      "metadata": {
        "id": "4cwxoUy-SkpI"
      }
    },
    {
      "cell_type": "code",
      "source": [
        "print(\"~~~~~~~~~~~~~~~~~~~~~~~~~~~  DATA PREPROCESSING  ~~~~~~~~~~~~~~~~~~~~~~~~~~~~~\",\"\\n\")\n",
        "a.isna().sum()"
      ],
      "metadata": {
        "colab": {
          "base_uri": "https://localhost:8080/",
          "height": 181
        },
        "id": "WDxOmCx0nfTM",
        "outputId": "dc051201-6ef1-439e-8c1b-b6007450abf5"
      },
      "execution_count": 130,
      "outputs": [
        {
          "output_type": "stream",
          "name": "stdout",
          "text": [
            "~~~~~~~~~~~~~~~~~~~~~~~~~~~  DATA PREPROCESSING  ~~~~~~~~~~~~~~~~~~~~~~~~~~~~~ \n",
            "\n"
          ]
        },
        {
          "output_type": "execute_result",
          "data": {
            "text/plain": [
              "DATE    0\n",
              "USD     0\n",
              "dtype: int64"
            ],
            "text/html": [
              "<div>\n",
              "<style scoped>\n",
              "    .dataframe tbody tr th:only-of-type {\n",
              "        vertical-align: middle;\n",
              "    }\n",
              "\n",
              "    .dataframe tbody tr th {\n",
              "        vertical-align: top;\n",
              "    }\n",
              "\n",
              "    .dataframe thead th {\n",
              "        text-align: right;\n",
              "    }\n",
              "</style>\n",
              "<table border=\"1\" class=\"dataframe\">\n",
              "  <thead>\n",
              "    <tr style=\"text-align: right;\">\n",
              "      <th></th>\n",
              "      <th>0</th>\n",
              "    </tr>\n",
              "  </thead>\n",
              "  <tbody>\n",
              "    <tr>\n",
              "      <th>DATE</th>\n",
              "      <td>0</td>\n",
              "    </tr>\n",
              "    <tr>\n",
              "      <th>USD</th>\n",
              "      <td>0</td>\n",
              "    </tr>\n",
              "  </tbody>\n",
              "</table>\n",
              "</div><br><label><b>dtype:</b> int64</label>"
            ]
          },
          "metadata": {},
          "execution_count": 130
        }
      ]
    },
    {
      "cell_type": "code",
      "source": [
        "print(\"~~~~~~~~~~~~~~~~~~~~~~~~~~~  DATA PREPROCESSING  ~~~~~~~~~~~~~~~~~~~~~~~~~~~~~\",\"\\n\")\n",
        "t = a.iloc[:,:-1]\n",
        "y = a[\"USD\"]\n",
        "print(t)\n",
        "print(y)"
      ],
      "metadata": {
        "colab": {
          "base_uri": "https://localhost:8080/"
        },
        "id": "8kE5sA-foKFu",
        "outputId": "2f001fe8-02cd-434e-df77-c7db4b3c74eb"
      },
      "execution_count": 131,
      "outputs": [
        {
          "output_type": "stream",
          "name": "stdout",
          "text": [
            "~~~~~~~~~~~~~~~~~~~~~~~~~~~  DATA PREPROCESSING  ~~~~~~~~~~~~~~~~~~~~~~~~~~~~~ \n",
            "\n",
            "       DATE\n",
            "0      3122\n",
            "1      4122\n",
            "2      5122\n",
            "3      7122\n",
            "4     10122\n",
            "..      ...\n",
            "498  211223\n",
            "499  221223\n",
            "500  271223\n",
            "501  281223\n",
            "502  291223\n",
            "\n",
            "[503 rows x 1 columns]\n",
            "0      4.0424\n",
            "1      4.0468\n",
            "2      4.0396\n",
            "3      4.0279\n",
            "4      4.0064\n",
            "        ...  \n",
            "498    3.9645\n",
            "499    3.9338\n",
            "500    3.9178\n",
            "501    3.8990\n",
            "502    3.9350\n",
            "Name: USD, Length: 503, dtype: float64\n"
          ]
        }
      ]
    },
    {
      "cell_type": "markdown",
      "source": [
        "***DATA SPLITTING***"
      ],
      "metadata": {
        "id": "fsYeIyFaSt2b"
      }
    },
    {
      "cell_type": "code",
      "source": [
        "print(\"~~~~~~~~~~~~~~~~~~~~~~~~~~~  DATA SPLITTING  ~~~~~~~~~~~~~~~~~~~~~~~~~~~~~\",\"\\n\")\n",
        "from sklearn.model_selection import train_test_split\n",
        "t_train, t_test, y_train, y_test = train_test_split(t,y,test_size = 0.2)\n",
        "print(t_train)\n",
        "print(y_train)\n",
        "print(t_test)\n",
        "print(y_test)"
      ],
      "metadata": {
        "colab": {
          "base_uri": "https://localhost:8080/"
        },
        "id": "2iVZgy_Yn0o9",
        "outputId": "3c2986fc-4261-47de-e56b-48e76f030c76"
      },
      "execution_count": 132,
      "outputs": [
        {
          "output_type": "stream",
          "name": "stdout",
          "text": [
            "~~~~~~~~~~~~~~~~~~~~~~~~~~~  DATA SPLITTING  ~~~~~~~~~~~~~~~~~~~~~~~~~~~~~ \n",
            "\n",
            "      DATE\n",
            "131  11722\n",
            "96   20522\n",
            "146   1822\n",
            "260  13123\n",
            "232  21222\n",
            "..     ...\n",
            "330  24423\n",
            "267  24123\n",
            "11   19122\n",
            "303  15323\n",
            "169   2922\n",
            "\n",
            "[402 rows x 1 columns]\n",
            "131    4.7416\n",
            "96     4.3832\n",
            "146    4.6290\n",
            "260    4.3272\n",
            "232    4.4492\n",
            "        ...  \n",
            "330    4.1905\n",
            "267    4.3341\n",
            "11     3.9930\n",
            "303    4.4030\n",
            "169    4.7276\n",
            "Name: USD, Length: 402, dtype: float64\n",
            "       DATE\n",
            "292   28223\n",
            "270   27123\n",
            "111   10622\n",
            "140   22722\n",
            "372   26623\n",
            "..      ...\n",
            "387   17723\n",
            "274    2223\n",
            "454  191023\n",
            "150    5822\n",
            "56    23322\n",
            "\n",
            "[101 rows x 1 columns]\n",
            "292    4.4475\n",
            "270    4.3252\n",
            "111    4.3363\n",
            "140    4.6920\n",
            "372    4.0669\n",
            "        ...  \n",
            "387    3.9616\n",
            "274    4.2803\n",
            "454    4.2264\n",
            "150    4.6024\n",
            "56     4.2772\n",
            "Name: USD, Length: 101, dtype: float64\n"
          ]
        }
      ]
    },
    {
      "cell_type": "markdown",
      "source": [
        "***DATA TRAINING***"
      ],
      "metadata": {
        "id": "bbzePt2RTQ_y"
      }
    },
    {
      "cell_type": "code",
      "source": [
        "print(\"~~~~~~~~~~~~~~~~~~~~~~~~~~~  DATA CLASSIFICATION  ~~~~~~~~~~~~~~~~~~~~~~~~~~~~~\",\"\\n\")\n",
        "from sklearn.linear_model import LinearRegression\n",
        "# Initialize the Linear Regression model\n",
        "model = LinearRegression()\n",
        "\n",
        "# Train the model\n",
        "model.fit(t_train, y_train)\n"
      ],
      "metadata": {
        "colab": {
          "base_uri": "https://localhost:8080/",
          "height": 109
        },
        "id": "MvqIuapON-Wi",
        "outputId": "42acb458-995f-4142-9199-ee774aafb9db"
      },
      "execution_count": 133,
      "outputs": [
        {
          "output_type": "stream",
          "name": "stdout",
          "text": [
            "~~~~~~~~~~~~~~~~~~~~~~~~~~~  DATA CLASSIFICATION  ~~~~~~~~~~~~~~~~~~~~~~~~~~~~~ \n",
            "\n"
          ]
        },
        {
          "output_type": "execute_result",
          "data": {
            "text/plain": [
              "LinearRegression()"
            ],
            "text/html": [
              "<style>#sk-container-id-9 {color: black;}#sk-container-id-9 pre{padding: 0;}#sk-container-id-9 div.sk-toggleable {background-color: white;}#sk-container-id-9 label.sk-toggleable__label {cursor: pointer;display: block;width: 100%;margin-bottom: 0;padding: 0.3em;box-sizing: border-box;text-align: center;}#sk-container-id-9 label.sk-toggleable__label-arrow:before {content: \"▸\";float: left;margin-right: 0.25em;color: #696969;}#sk-container-id-9 label.sk-toggleable__label-arrow:hover:before {color: black;}#sk-container-id-9 div.sk-estimator:hover label.sk-toggleable__label-arrow:before {color: black;}#sk-container-id-9 div.sk-toggleable__content {max-height: 0;max-width: 0;overflow: hidden;text-align: left;background-color: #f0f8ff;}#sk-container-id-9 div.sk-toggleable__content pre {margin: 0.2em;color: black;border-radius: 0.25em;background-color: #f0f8ff;}#sk-container-id-9 input.sk-toggleable__control:checked~div.sk-toggleable__content {max-height: 200px;max-width: 100%;overflow: auto;}#sk-container-id-9 input.sk-toggleable__control:checked~label.sk-toggleable__label-arrow:before {content: \"▾\";}#sk-container-id-9 div.sk-estimator input.sk-toggleable__control:checked~label.sk-toggleable__label {background-color: #d4ebff;}#sk-container-id-9 div.sk-label input.sk-toggleable__control:checked~label.sk-toggleable__label {background-color: #d4ebff;}#sk-container-id-9 input.sk-hidden--visually {border: 0;clip: rect(1px 1px 1px 1px);clip: rect(1px, 1px, 1px, 1px);height: 1px;margin: -1px;overflow: hidden;padding: 0;position: absolute;width: 1px;}#sk-container-id-9 div.sk-estimator {font-family: monospace;background-color: #f0f8ff;border: 1px dotted black;border-radius: 0.25em;box-sizing: border-box;margin-bottom: 0.5em;}#sk-container-id-9 div.sk-estimator:hover {background-color: #d4ebff;}#sk-container-id-9 div.sk-parallel-item::after {content: \"\";width: 100%;border-bottom: 1px solid gray;flex-grow: 1;}#sk-container-id-9 div.sk-label:hover label.sk-toggleable__label {background-color: #d4ebff;}#sk-container-id-9 div.sk-serial::before {content: \"\";position: absolute;border-left: 1px solid gray;box-sizing: border-box;top: 0;bottom: 0;left: 50%;z-index: 0;}#sk-container-id-9 div.sk-serial {display: flex;flex-direction: column;align-items: center;background-color: white;padding-right: 0.2em;padding-left: 0.2em;position: relative;}#sk-container-id-9 div.sk-item {position: relative;z-index: 1;}#sk-container-id-9 div.sk-parallel {display: flex;align-items: stretch;justify-content: center;background-color: white;position: relative;}#sk-container-id-9 div.sk-item::before, #sk-container-id-9 div.sk-parallel-item::before {content: \"\";position: absolute;border-left: 1px solid gray;box-sizing: border-box;top: 0;bottom: 0;left: 50%;z-index: -1;}#sk-container-id-9 div.sk-parallel-item {display: flex;flex-direction: column;z-index: 1;position: relative;background-color: white;}#sk-container-id-9 div.sk-parallel-item:first-child::after {align-self: flex-end;width: 50%;}#sk-container-id-9 div.sk-parallel-item:last-child::after {align-self: flex-start;width: 50%;}#sk-container-id-9 div.sk-parallel-item:only-child::after {width: 0;}#sk-container-id-9 div.sk-dashed-wrapped {border: 1px dashed gray;margin: 0 0.4em 0.5em 0.4em;box-sizing: border-box;padding-bottom: 0.4em;background-color: white;}#sk-container-id-9 div.sk-label label {font-family: monospace;font-weight: bold;display: inline-block;line-height: 1.2em;}#sk-container-id-9 div.sk-label-container {text-align: center;}#sk-container-id-9 div.sk-container {/* jupyter's `normalize.less` sets `[hidden] { display: none; }` but bootstrap.min.css set `[hidden] { display: none !important; }` so we also need the `!important` here to be able to override the default hidden behavior on the sphinx rendered scikit-learn.org. See: https://github.com/scikit-learn/scikit-learn/issues/21755 */display: inline-block !important;position: relative;}#sk-container-id-9 div.sk-text-repr-fallback {display: none;}</style><div id=\"sk-container-id-9\" class=\"sk-top-container\"><div class=\"sk-text-repr-fallback\"><pre>LinearRegression()</pre><b>In a Jupyter environment, please rerun this cell to show the HTML representation or trust the notebook. <br />On GitHub, the HTML representation is unable to render, please try loading this page with nbviewer.org.</b></div><div class=\"sk-container\" hidden><div class=\"sk-item\"><div class=\"sk-estimator sk-toggleable\"><input class=\"sk-toggleable__control sk-hidden--visually\" id=\"sk-estimator-id-9\" type=\"checkbox\" checked><label for=\"sk-estimator-id-9\" class=\"sk-toggleable__label sk-toggleable__label-arrow\">LinearRegression</label><div class=\"sk-toggleable__content\"><pre>LinearRegression()</pre></div></div></div></div></div>"
            ]
          },
          "metadata": {},
          "execution_count": 133
        }
      ]
    },
    {
      "cell_type": "code",
      "source": [
        "print(\"~~~~~~~~~~~~~~~~~~~~~~~~~~~  DATA CLASSIFICATION  ~~~~~~~~~~~~~~~~~~~~~~~~~~~~~\",\"\\n\")\n",
        "from sklearn.naive_bayes import GaussianNB\n",
        "nb = GaussianNB()\n",
        "nb.fit(t_train,y_train.astype('int'))"
      ],
      "metadata": {
        "colab": {
          "base_uri": "https://localhost:8080/",
          "height": 109
        },
        "id": "3igit2HiUyan",
        "outputId": "3a883049-252a-4086-a5d3-d24ec286eea2"
      },
      "execution_count": 134,
      "outputs": [
        {
          "output_type": "stream",
          "name": "stdout",
          "text": [
            "~~~~~~~~~~~~~~~~~~~~~~~~~~~  DATA CLASSIFICATION  ~~~~~~~~~~~~~~~~~~~~~~~~~~~~~ \n",
            "\n"
          ]
        },
        {
          "output_type": "execute_result",
          "data": {
            "text/plain": [
              "GaussianNB()"
            ],
            "text/html": [
              "<style>#sk-container-id-10 {color: black;}#sk-container-id-10 pre{padding: 0;}#sk-container-id-10 div.sk-toggleable {background-color: white;}#sk-container-id-10 label.sk-toggleable__label {cursor: pointer;display: block;width: 100%;margin-bottom: 0;padding: 0.3em;box-sizing: border-box;text-align: center;}#sk-container-id-10 label.sk-toggleable__label-arrow:before {content: \"▸\";float: left;margin-right: 0.25em;color: #696969;}#sk-container-id-10 label.sk-toggleable__label-arrow:hover:before {color: black;}#sk-container-id-10 div.sk-estimator:hover label.sk-toggleable__label-arrow:before {color: black;}#sk-container-id-10 div.sk-toggleable__content {max-height: 0;max-width: 0;overflow: hidden;text-align: left;background-color: #f0f8ff;}#sk-container-id-10 div.sk-toggleable__content pre {margin: 0.2em;color: black;border-radius: 0.25em;background-color: #f0f8ff;}#sk-container-id-10 input.sk-toggleable__control:checked~div.sk-toggleable__content {max-height: 200px;max-width: 100%;overflow: auto;}#sk-container-id-10 input.sk-toggleable__control:checked~label.sk-toggleable__label-arrow:before {content: \"▾\";}#sk-container-id-10 div.sk-estimator input.sk-toggleable__control:checked~label.sk-toggleable__label {background-color: #d4ebff;}#sk-container-id-10 div.sk-label input.sk-toggleable__control:checked~label.sk-toggleable__label {background-color: #d4ebff;}#sk-container-id-10 input.sk-hidden--visually {border: 0;clip: rect(1px 1px 1px 1px);clip: rect(1px, 1px, 1px, 1px);height: 1px;margin: -1px;overflow: hidden;padding: 0;position: absolute;width: 1px;}#sk-container-id-10 div.sk-estimator {font-family: monospace;background-color: #f0f8ff;border: 1px dotted black;border-radius: 0.25em;box-sizing: border-box;margin-bottom: 0.5em;}#sk-container-id-10 div.sk-estimator:hover {background-color: #d4ebff;}#sk-container-id-10 div.sk-parallel-item::after {content: \"\";width: 100%;border-bottom: 1px solid gray;flex-grow: 1;}#sk-container-id-10 div.sk-label:hover label.sk-toggleable__label {background-color: #d4ebff;}#sk-container-id-10 div.sk-serial::before {content: \"\";position: absolute;border-left: 1px solid gray;box-sizing: border-box;top: 0;bottom: 0;left: 50%;z-index: 0;}#sk-container-id-10 div.sk-serial {display: flex;flex-direction: column;align-items: center;background-color: white;padding-right: 0.2em;padding-left: 0.2em;position: relative;}#sk-container-id-10 div.sk-item {position: relative;z-index: 1;}#sk-container-id-10 div.sk-parallel {display: flex;align-items: stretch;justify-content: center;background-color: white;position: relative;}#sk-container-id-10 div.sk-item::before, #sk-container-id-10 div.sk-parallel-item::before {content: \"\";position: absolute;border-left: 1px solid gray;box-sizing: border-box;top: 0;bottom: 0;left: 50%;z-index: -1;}#sk-container-id-10 div.sk-parallel-item {display: flex;flex-direction: column;z-index: 1;position: relative;background-color: white;}#sk-container-id-10 div.sk-parallel-item:first-child::after {align-self: flex-end;width: 50%;}#sk-container-id-10 div.sk-parallel-item:last-child::after {align-self: flex-start;width: 50%;}#sk-container-id-10 div.sk-parallel-item:only-child::after {width: 0;}#sk-container-id-10 div.sk-dashed-wrapped {border: 1px dashed gray;margin: 0 0.4em 0.5em 0.4em;box-sizing: border-box;padding-bottom: 0.4em;background-color: white;}#sk-container-id-10 div.sk-label label {font-family: monospace;font-weight: bold;display: inline-block;line-height: 1.2em;}#sk-container-id-10 div.sk-label-container {text-align: center;}#sk-container-id-10 div.sk-container {/* jupyter's `normalize.less` sets `[hidden] { display: none; }` but bootstrap.min.css set `[hidden] { display: none !important; }` so we also need the `!important` here to be able to override the default hidden behavior on the sphinx rendered scikit-learn.org. See: https://github.com/scikit-learn/scikit-learn/issues/21755 */display: inline-block !important;position: relative;}#sk-container-id-10 div.sk-text-repr-fallback {display: none;}</style><div id=\"sk-container-id-10\" class=\"sk-top-container\"><div class=\"sk-text-repr-fallback\"><pre>GaussianNB()</pre><b>In a Jupyter environment, please rerun this cell to show the HTML representation or trust the notebook. <br />On GitHub, the HTML representation is unable to render, please try loading this page with nbviewer.org.</b></div><div class=\"sk-container\" hidden><div class=\"sk-item\"><div class=\"sk-estimator sk-toggleable\"><input class=\"sk-toggleable__control sk-hidden--visually\" id=\"sk-estimator-id-10\" type=\"checkbox\" checked><label for=\"sk-estimator-id-10\" class=\"sk-toggleable__label sk-toggleable__label-arrow\">GaussianNB</label><div class=\"sk-toggleable__content\"><pre>GaussianNB()</pre></div></div></div></div></div>"
            ]
          },
          "metadata": {},
          "execution_count": 134
        }
      ]
    },
    {
      "cell_type": "code",
      "source": [
        "print(\"~~~~~~~~~~~~~~~~~~~~~~~~~~~  DATA CLASSIFICATION  ~~~~~~~~~~~~~~~~~~~~~~~~~~~~~\",\"\\n\")\n",
        "from sklearn.ensemble import RandomForestRegressor\n",
        "rf = RandomForestRegressor()\n",
        "rf.fit(t_train,y_train.astype('int'))"
      ],
      "metadata": {
        "colab": {
          "base_uri": "https://localhost:8080/",
          "height": 109
        },
        "id": "yIt6y6CRV1zL",
        "outputId": "d7fa92a6-24a1-45db-95d7-9ab27ff99308"
      },
      "execution_count": 135,
      "outputs": [
        {
          "output_type": "stream",
          "name": "stdout",
          "text": [
            "~~~~~~~~~~~~~~~~~~~~~~~~~~~  DATA CLASSIFICATION  ~~~~~~~~~~~~~~~~~~~~~~~~~~~~~ \n",
            "\n"
          ]
        },
        {
          "output_type": "execute_result",
          "data": {
            "text/plain": [
              "RandomForestRegressor()"
            ],
            "text/html": [
              "<style>#sk-container-id-11 {color: black;}#sk-container-id-11 pre{padding: 0;}#sk-container-id-11 div.sk-toggleable {background-color: white;}#sk-container-id-11 label.sk-toggleable__label {cursor: pointer;display: block;width: 100%;margin-bottom: 0;padding: 0.3em;box-sizing: border-box;text-align: center;}#sk-container-id-11 label.sk-toggleable__label-arrow:before {content: \"▸\";float: left;margin-right: 0.25em;color: #696969;}#sk-container-id-11 label.sk-toggleable__label-arrow:hover:before {color: black;}#sk-container-id-11 div.sk-estimator:hover label.sk-toggleable__label-arrow:before {color: black;}#sk-container-id-11 div.sk-toggleable__content {max-height: 0;max-width: 0;overflow: hidden;text-align: left;background-color: #f0f8ff;}#sk-container-id-11 div.sk-toggleable__content pre {margin: 0.2em;color: black;border-radius: 0.25em;background-color: #f0f8ff;}#sk-container-id-11 input.sk-toggleable__control:checked~div.sk-toggleable__content {max-height: 200px;max-width: 100%;overflow: auto;}#sk-container-id-11 input.sk-toggleable__control:checked~label.sk-toggleable__label-arrow:before {content: \"▾\";}#sk-container-id-11 div.sk-estimator input.sk-toggleable__control:checked~label.sk-toggleable__label {background-color: #d4ebff;}#sk-container-id-11 div.sk-label input.sk-toggleable__control:checked~label.sk-toggleable__label {background-color: #d4ebff;}#sk-container-id-11 input.sk-hidden--visually {border: 0;clip: rect(1px 1px 1px 1px);clip: rect(1px, 1px, 1px, 1px);height: 1px;margin: -1px;overflow: hidden;padding: 0;position: absolute;width: 1px;}#sk-container-id-11 div.sk-estimator {font-family: monospace;background-color: #f0f8ff;border: 1px dotted black;border-radius: 0.25em;box-sizing: border-box;margin-bottom: 0.5em;}#sk-container-id-11 div.sk-estimator:hover {background-color: #d4ebff;}#sk-container-id-11 div.sk-parallel-item::after {content: \"\";width: 100%;border-bottom: 1px solid gray;flex-grow: 1;}#sk-container-id-11 div.sk-label:hover label.sk-toggleable__label {background-color: #d4ebff;}#sk-container-id-11 div.sk-serial::before {content: \"\";position: absolute;border-left: 1px solid gray;box-sizing: border-box;top: 0;bottom: 0;left: 50%;z-index: 0;}#sk-container-id-11 div.sk-serial {display: flex;flex-direction: column;align-items: center;background-color: white;padding-right: 0.2em;padding-left: 0.2em;position: relative;}#sk-container-id-11 div.sk-item {position: relative;z-index: 1;}#sk-container-id-11 div.sk-parallel {display: flex;align-items: stretch;justify-content: center;background-color: white;position: relative;}#sk-container-id-11 div.sk-item::before, #sk-container-id-11 div.sk-parallel-item::before {content: \"\";position: absolute;border-left: 1px solid gray;box-sizing: border-box;top: 0;bottom: 0;left: 50%;z-index: -1;}#sk-container-id-11 div.sk-parallel-item {display: flex;flex-direction: column;z-index: 1;position: relative;background-color: white;}#sk-container-id-11 div.sk-parallel-item:first-child::after {align-self: flex-end;width: 50%;}#sk-container-id-11 div.sk-parallel-item:last-child::after {align-self: flex-start;width: 50%;}#sk-container-id-11 div.sk-parallel-item:only-child::after {width: 0;}#sk-container-id-11 div.sk-dashed-wrapped {border: 1px dashed gray;margin: 0 0.4em 0.5em 0.4em;box-sizing: border-box;padding-bottom: 0.4em;background-color: white;}#sk-container-id-11 div.sk-label label {font-family: monospace;font-weight: bold;display: inline-block;line-height: 1.2em;}#sk-container-id-11 div.sk-label-container {text-align: center;}#sk-container-id-11 div.sk-container {/* jupyter's `normalize.less` sets `[hidden] { display: none; }` but bootstrap.min.css set `[hidden] { display: none !important; }` so we also need the `!important` here to be able to override the default hidden behavior on the sphinx rendered scikit-learn.org. See: https://github.com/scikit-learn/scikit-learn/issues/21755 */display: inline-block !important;position: relative;}#sk-container-id-11 div.sk-text-repr-fallback {display: none;}</style><div id=\"sk-container-id-11\" class=\"sk-top-container\"><div class=\"sk-text-repr-fallback\"><pre>RandomForestRegressor()</pre><b>In a Jupyter environment, please rerun this cell to show the HTML representation or trust the notebook. <br />On GitHub, the HTML representation is unable to render, please try loading this page with nbviewer.org.</b></div><div class=\"sk-container\" hidden><div class=\"sk-item\"><div class=\"sk-estimator sk-toggleable\"><input class=\"sk-toggleable__control sk-hidden--visually\" id=\"sk-estimator-id-11\" type=\"checkbox\" checked><label for=\"sk-estimator-id-11\" class=\"sk-toggleable__label sk-toggleable__label-arrow\">RandomForestRegressor</label><div class=\"sk-toggleable__content\"><pre>RandomForestRegressor()</pre></div></div></div></div></div>"
            ]
          },
          "metadata": {},
          "execution_count": 135
        }
      ]
    },
    {
      "cell_type": "markdown",
      "source": [
        "***DATA PREDICTION***"
      ],
      "metadata": {
        "id": "eLQad8VQTiiL"
      }
    },
    {
      "cell_type": "code",
      "source": [
        "print(\"~~~~~~~~~~~~~~~~~~~~~~~~~~~  DATA PREDICTION  ~~~~~~~~~~~~~~~~~~~~~~~~~~~~~\",\"\\n\")\n",
        "y_pred = model.predict(t_test)\n",
        "print(y_pred)"
      ],
      "metadata": {
        "colab": {
          "base_uri": "https://localhost:8080/"
        },
        "id": "aohf_QeLTeFW",
        "outputId": "067fbc2b-7737-4ee5-fecb-f54e3f2c1110"
      },
      "execution_count": 136,
      "outputs": [
        {
          "output_type": "stream",
          "name": "stdout",
          "text": [
            "~~~~~~~~~~~~~~~~~~~~~~~~~~~  DATA PREDICTION  ~~~~~~~~~~~~~~~~~~~~~~~~~~~~~ \n",
            "\n",
            "[4.33429917 4.33396619 4.32897107 4.33263393 4.33381483 4.41085602\n",
            " 4.32654965 4.33411755 4.32700372 4.32742752 4.33221044 4.3285173\n",
            " 4.32812377 4.32612585 4.34728538 4.32706396 4.32918297 4.33066658\n",
            " 4.33375429 4.38663875 4.33481379 4.33529783 4.40785883 4.32966732\n",
            " 4.33817394 4.33463186 4.32888056 4.32936491 4.33305774 4.3412011\n",
            " 4.33184687 4.33211962 4.40785913 4.32721532 4.37456008 4.37449984\n",
            " 4.36847549 4.3283051  4.32794214 4.3276697  4.33290638 4.32754861\n",
            " 4.32951596 4.32942515 4.33390564 4.36850607 4.33166555 4.33217986\n",
            " 4.3332091  4.32769997 4.32900165 4.32903192 4.33357235 4.32742722\n",
            " 4.333421   4.33006115 4.33345157 4.41691033 4.3287289  4.38055416\n",
            " 4.33502539 4.33172579 4.32709454 4.33308801 4.41688006 4.32785102\n",
            " 4.32615582 4.3442885  4.33251315 4.33069686 4.35633659 4.40477143\n",
            " 4.3307574  4.33508593 4.33414782 4.33208935 4.33493488 4.33339072\n",
            " 4.32957681 4.33290668 4.35336997 4.32987952 4.33499542 4.32673128\n",
            " 4.32990949 4.34422795 4.33142337 4.33435942 4.41088629 4.32933463\n",
            " 4.38364186 4.33166524 4.33502569 4.33106012 4.33248258 4.32661019\n",
            " 4.33112066 4.32642856 4.38358132 4.32751804 4.33281556]\n"
          ]
        }
      ]
    },
    {
      "cell_type": "markdown",
      "source": [
        "***FIND MEAN SQUARE ERROR AND R-SQUARE***"
      ],
      "metadata": {
        "id": "Kcu5D5SmTWhS"
      }
    },
    {
      "source": [
        "print(\"~~~~~~~~~~~~~~~~~~~~~~~~~~~  DATA METRICS  ~~~~~~~~~~~~~~~~~~~~~~~~~~~~~\",\"\\n\")\n",
        "from sklearn.metrics import mean_squared_error, r2_score, mean_absolute_error\n",
        "mae = mean_absolute_error(y_test, y_pred)\n",
        "print(\"Mean Absolute Error:\", mae)\n",
        "mse = mean_squared_error(y_test, y_pred)\n",
        "print(\"Mean Squared Error:\", mse)\n",
        "r2 = r2_score(y_test, y_pred)\n",
        "print(\"R-squared:\", r2)"
      ],
      "cell_type": "code",
      "metadata": {
        "colab": {
          "base_uri": "https://localhost:8080/"
        },
        "id": "PMfLYyNYSCnc",
        "outputId": "56cbe30b-43dc-4706-c9ce-bb2de2ca169c"
      },
      "execution_count": 137,
      "outputs": [
        {
          "output_type": "stream",
          "name": "stdout",
          "text": [
            "~~~~~~~~~~~~~~~~~~~~~~~~~~~  DATA METRICS  ~~~~~~~~~~~~~~~~~~~~~~~~~~~~~ \n",
            "\n",
            "Mean Absolute Error: 0.193722796750424\n",
            "Mean Squared Error: 0.05973885507087908\n",
            "R-squared: -0.09166802656027073\n"
          ]
        }
      ]
    }
  ]
}