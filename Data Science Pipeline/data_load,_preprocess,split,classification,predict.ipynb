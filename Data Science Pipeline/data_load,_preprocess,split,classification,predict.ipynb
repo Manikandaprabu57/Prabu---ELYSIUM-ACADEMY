{
  "nbformat": 4,
  "nbformat_minor": 0,
  "metadata": {
    "colab": {
      "provenance": []
    },
    "kernelspec": {
      "name": "python3",
      "display_name": "Python 3"
    },
    "language_info": {
      "name": "python"
    }
  },
  "cells": [
    {
      "cell_type": "markdown",
      "source": [
        "***Data loading***"
      ],
      "metadata": {
        "id": "DAWkKfgwO2Xp"
      }
    },
    {
      "cell_type": "code",
      "execution_count": null,
      "metadata": {
        "colab": {
          "base_uri": "https://localhost:8080/"
        },
        "id": "ZrBY7ZEWLzMy",
        "outputId": "cc4e478f-4e77-4112-dea9-481a77fcb580"
      },
      "outputs": [
        {
          "output_type": "stream",
          "name": "stdout",
          "text": [
            "~~~~~~~~~~~~~~~~~~~~~~~~~IRIS Data loading~~~~~~~~~~~~~~~~~~~~\n",
            "\n",
            "\n",
            "     sepal_length  sepal_width  petal_length  petal_width    species\n",
            "0             5.1          3.5           1.4          0.2     setosa\n",
            "1             4.9          3.0           1.4          0.2     setosa\n",
            "2             4.7          3.2           1.3          0.2     setosa\n",
            "3             4.6          3.1           1.5          0.2     setosa\n",
            "4             5.0          3.6           1.4          0.2     setosa\n",
            "..            ...          ...           ...          ...        ...\n",
            "145           6.7          3.0           5.2          2.3  virginica\n",
            "146           6.3          2.5           5.0          1.9  virginica\n",
            "147           6.5          3.0           5.2          2.0  virginica\n",
            "148           6.2          3.4           5.4          2.3  virginica\n",
            "149           5.9          3.0           5.1          1.8  virginica\n",
            "\n",
            "[150 rows x 5 columns]\n"
          ]
        }
      ],
      "source": [
        "print(\"~~~~~~~~~~~~~~~~~~~~~~~~~IRIS Data loading~~~~~~~~~~~~~~~~~~~~\")\n",
        "print(\"\\n\")\n",
        "import pandas as pd\n",
        "import matplotlib.pyplot as plt\n",
        "a = pd.read_csv(\"/content/iris.csv\")\n",
        "print(a)"
      ]
    },
    {
      "cell_type": "markdown",
      "source": [
        "***Data preprocessing***"
      ],
      "metadata": {
        "id": "WTWIFF6yO7zZ"
      }
    },
    {
      "cell_type": "code",
      "source": [
        "print(\"~~~~~~~~~~~~~~~~~~~~~~~~~Data preprocessing~~~~~~~~~~~~~~~~~~~~\")\n",
        "print(\"\\n\")\n",
        "a.isna().sum()"
      ],
      "metadata": {
        "colab": {
          "base_uri": "https://localhost:8080/",
          "height": 293
        },
        "id": "BwAWjG7kMqnb",
        "outputId": "da430602-e772-4f00-fb18-f55bc0d96444"
      },
      "execution_count": null,
      "outputs": [
        {
          "output_type": "stream",
          "name": "stdout",
          "text": [
            "~~~~~~~~~~~~~~~~~~~~~~~~~Data preprocessing~~~~~~~~~~~~~~~~~~~~\n",
            "\n",
            "\n"
          ]
        },
        {
          "output_type": "execute_result",
          "data": {
            "text/plain": [
              "sepal_length    0\n",
              "sepal_width     0\n",
              "petal_length    0\n",
              "petal_width     0\n",
              "species         0\n",
              "dtype: int64"
            ],
            "text/html": [
              "<div>\n",
              "<style scoped>\n",
              "    .dataframe tbody tr th:only-of-type {\n",
              "        vertical-align: middle;\n",
              "    }\n",
              "\n",
              "    .dataframe tbody tr th {\n",
              "        vertical-align: top;\n",
              "    }\n",
              "\n",
              "    .dataframe thead th {\n",
              "        text-align: right;\n",
              "    }\n",
              "</style>\n",
              "<table border=\"1\" class=\"dataframe\">\n",
              "  <thead>\n",
              "    <tr style=\"text-align: right;\">\n",
              "      <th></th>\n",
              "      <th>0</th>\n",
              "    </tr>\n",
              "  </thead>\n",
              "  <tbody>\n",
              "    <tr>\n",
              "      <th>sepal_length</th>\n",
              "      <td>0</td>\n",
              "    </tr>\n",
              "    <tr>\n",
              "      <th>sepal_width</th>\n",
              "      <td>0</td>\n",
              "    </tr>\n",
              "    <tr>\n",
              "      <th>petal_length</th>\n",
              "      <td>0</td>\n",
              "    </tr>\n",
              "    <tr>\n",
              "      <th>petal_width</th>\n",
              "      <td>0</td>\n",
              "    </tr>\n",
              "    <tr>\n",
              "      <th>species</th>\n",
              "      <td>0</td>\n",
              "    </tr>\n",
              "  </tbody>\n",
              "</table>\n",
              "</div><br><label><b>dtype:</b> int64</label>"
            ]
          },
          "metadata": {},
          "execution_count": 7
        }
      ]
    },
    {
      "cell_type": "markdown",
      "source": [],
      "metadata": {
        "id": "fTvIIksvO1IH"
      }
    },
    {
      "cell_type": "code",
      "source": [
        "print(\"~~~~~~~~~~~~~~~~~~~~~~~~~Data preprocessing~~~~~~~~~~~~~~~~~~~~\")\n",
        "print(\"\\n\")\n",
        "from sklearn.preprocessing import LabelEncoder\n",
        "b = LabelEncoder()\n",
        "a[\"species\"] = b.fit_transform(a[\"species\"])\n",
        "print(a)"
      ],
      "metadata": {
        "colab": {
          "base_uri": "https://localhost:8080/"
        },
        "id": "FwyFQY5TMvxt",
        "outputId": "edf43b3b-dc46-4b50-b046-4271cd46878b"
      },
      "execution_count": null,
      "outputs": [
        {
          "output_type": "stream",
          "name": "stdout",
          "text": [
            "~~~~~~~~~~~~~~~~~~~~~~~~~Data preprocessing~~~~~~~~~~~~~~~~~~~~\n",
            "\n",
            "\n",
            "     sepal_length  sepal_width  petal_length  petal_width  species\n",
            "0             5.1          3.5           1.4          0.2        0\n",
            "1             4.9          3.0           1.4          0.2        0\n",
            "2             4.7          3.2           1.3          0.2        0\n",
            "3             4.6          3.1           1.5          0.2        0\n",
            "4             5.0          3.6           1.4          0.2        0\n",
            "..            ...          ...           ...          ...      ...\n",
            "145           6.7          3.0           5.2          2.3        2\n",
            "146           6.3          2.5           5.0          1.9        2\n",
            "147           6.5          3.0           5.2          2.0        2\n",
            "148           6.2          3.4           5.4          2.3        2\n",
            "149           5.9          3.0           5.1          1.8        2\n",
            "\n",
            "[150 rows x 5 columns]\n"
          ]
        }
      ]
    },
    {
      "cell_type": "markdown",
      "source": [
        "***Data splitting***"
      ],
      "metadata": {
        "id": "9GkPN2YqPr4q"
      }
    },
    {
      "cell_type": "code",
      "source": [
        "print(\"~~~~~~~~~~~~~~~~~~~~~~~~~Data splitting~~~~~~~~~~~~~~~~~~~~\")\n",
        "print(\"\\n\")\n",
        "\n",
        "t = a.iloc[:,:-1]\n",
        "y = a[\"species\"]\n",
        "print(t)\n",
        "print(y)"
      ],
      "metadata": {
        "colab": {
          "base_uri": "https://localhost:8080/"
        },
        "id": "rTrSHJhiNIEt",
        "outputId": "231fd2b0-86a0-4b45-97c3-9b548436fc2d"
      },
      "execution_count": null,
      "outputs": [
        {
          "output_type": "stream",
          "name": "stdout",
          "text": [
            "~~~~~~~~~~~~~~~~~~~~~~~~~Data splitting~~~~~~~~~~~~~~~~~~~~\n",
            "\n",
            "\n",
            "     sepal_length  sepal_width  petal_length  petal_width\n",
            "0             5.1          3.5           1.4          0.2\n",
            "1             4.9          3.0           1.4          0.2\n",
            "2             4.7          3.2           1.3          0.2\n",
            "3             4.6          3.1           1.5          0.2\n",
            "4             5.0          3.6           1.4          0.2\n",
            "..            ...          ...           ...          ...\n",
            "145           6.7          3.0           5.2          2.3\n",
            "146           6.3          2.5           5.0          1.9\n",
            "147           6.5          3.0           5.2          2.0\n",
            "148           6.2          3.4           5.4          2.3\n",
            "149           5.9          3.0           5.1          1.8\n",
            "\n",
            "[150 rows x 4 columns]\n",
            "0      0\n",
            "1      0\n",
            "2      0\n",
            "3      0\n",
            "4      0\n",
            "      ..\n",
            "145    2\n",
            "146    2\n",
            "147    2\n",
            "148    2\n",
            "149    2\n",
            "Name: species, Length: 150, dtype: int64\n"
          ]
        }
      ]
    },
    {
      "cell_type": "code",
      "source": [
        "print(\"~~~~~~~~~~~~~~~~~~~~~~~~~Data splitting~~~~~~~~~~~~~~~~~~~~\")\n",
        "print(\"\\n\")\n",
        "from sklearn.model_selection import train_test_split\n",
        "t_train, t_test, y_train, y_test = train_test_split(t, y, test_size = 0.2)\n",
        "print(t_train)\n",
        "print(t_test)\n",
        "print(y_train)\n",
        "print(y_test)"
      ],
      "metadata": {
        "colab": {
          "base_uri": "https://localhost:8080/"
        },
        "id": "WqEllxOAQS0o",
        "outputId": "67ae80d9-d035-40cf-ba5a-1a24cab8cb2f"
      },
      "execution_count": null,
      "outputs": [
        {
          "output_type": "stream",
          "name": "stdout",
          "text": [
            "~~~~~~~~~~~~~~~~~~~~~~~~~Data splitting~~~~~~~~~~~~~~~~~~~~\n",
            "\n",
            "\n",
            "     sepal_length  sepal_width  petal_length  petal_width\n",
            "82            5.8          2.7           3.9          1.2\n",
            "93            5.0          2.3           3.3          1.0\n",
            "2             4.7          3.2           1.3          0.2\n",
            "72            6.3          2.5           4.9          1.5\n",
            "104           6.5          3.0           5.8          2.2\n",
            "..            ...          ...           ...          ...\n",
            "97            6.2          2.9           4.3          1.3\n",
            "79            5.7          2.6           3.5          1.0\n",
            "60            5.0          2.0           3.5          1.0\n",
            "110           6.5          3.2           5.1          2.0\n",
            "107           7.3          2.9           6.3          1.8\n",
            "\n",
            "[120 rows x 4 columns]\n",
            "     sepal_length  sepal_width  petal_length  petal_width\n",
            "34            4.9          3.1           1.5          0.1\n",
            "11            4.8          3.4           1.6          0.2\n",
            "71            6.1          2.8           4.0          1.3\n",
            "5             5.4          3.9           1.7          0.4\n",
            "105           7.6          3.0           6.6          2.1\n",
            "131           7.9          3.8           6.4          2.0\n",
            "76            6.8          2.8           4.8          1.4\n",
            "32            5.2          4.1           1.5          0.1\n",
            "33            5.5          4.2           1.4          0.2\n",
            "8             4.4          2.9           1.4          0.2\n",
            "133           6.3          2.8           5.1          1.5\n",
            "132           6.4          2.8           5.6          2.2\n",
            "114           5.8          2.8           5.1          2.4\n",
            "124           6.7          3.3           5.7          2.1\n",
            "49            5.0          3.3           1.4          0.2\n",
            "115           6.4          3.2           5.3          2.3\n",
            "26            5.0          3.4           1.6          0.4\n",
            "134           6.1          2.6           5.6          1.4\n",
            "21            5.1          3.7           1.5          0.4\n",
            "78            6.0          2.9           4.5          1.5\n",
            "90            5.5          2.6           4.4          1.2\n",
            "126           6.2          2.8           4.8          1.8\n",
            "109           7.2          3.6           6.1          2.5\n",
            "9             4.9          3.1           1.5          0.1\n",
            "70            5.9          3.2           4.8          1.8\n",
            "99            5.7          2.8           4.1          1.3\n",
            "38            4.4          3.0           1.3          0.2\n",
            "43            5.0          3.5           1.6          0.6\n",
            "101           5.8          2.7           5.1          1.9\n",
            "91            6.1          3.0           4.6          1.4\n",
            "82     1\n",
            "93     1\n",
            "2      0\n",
            "72     1\n",
            "104    2\n",
            "      ..\n",
            "97     1\n",
            "79     1\n",
            "60     1\n",
            "110    2\n",
            "107    2\n",
            "Name: species, Length: 120, dtype: int64\n",
            "34     0\n",
            "11     0\n",
            "71     1\n",
            "5      0\n",
            "105    2\n",
            "131    2\n",
            "76     1\n",
            "32     0\n",
            "33     0\n",
            "8      0\n",
            "133    2\n",
            "132    2\n",
            "114    2\n",
            "124    2\n",
            "49     0\n",
            "115    2\n",
            "26     0\n",
            "134    2\n",
            "21     0\n",
            "78     1\n",
            "90     1\n",
            "126    2\n",
            "109    2\n",
            "9      0\n",
            "70     1\n",
            "99     1\n",
            "38     0\n",
            "43     0\n",
            "101    2\n",
            "91     1\n",
            "Name: species, dtype: int64\n"
          ]
        }
      ]
    },
    {
      "cell_type": "markdown",
      "source": [
        "***Data Classification***"
      ],
      "metadata": {
        "id": "fn-R6ArUSCEW"
      }
    },
    {
      "cell_type": "code",
      "source": [
        "print(\"~~~~~~~~~~~~~~~~~~~~~~~~~Data Classification~~~~~~~~~~~~~~~~~~~~\")\n",
        "print(\"\\n\")\n",
        "from sklearn.linear_model import LogisticRegression\n",
        "\n",
        "model = LogisticRegression()\n",
        "model.fit(t_train, y_train)\n",
        "y_pred = model.predict(t_test)\n",
        "print(y_pred)"
      ],
      "metadata": {
        "colab": {
          "base_uri": "https://localhost:8080/"
        },
        "id": "QGr0YwCQQ_wt",
        "outputId": "ea6a0a41-7c00-452a-fbfc-8e2f7ca66680"
      },
      "execution_count": null,
      "outputs": [
        {
          "output_type": "stream",
          "name": "stdout",
          "text": [
            "~~~~~~~~~~~~~~~~~~~~~~~~~Data prediction~~~~~~~~~~~~~~~~~~~~\n",
            "\n",
            "\n",
            "[0 0 1 0 2 2 1 0 0 0 1 2 2 2 0 2 0 2 0 1 1 2 2 0 2 1 0 0 2 1]\n"
          ]
        },
        {
          "output_type": "stream",
          "name": "stderr",
          "text": [
            "/usr/local/lib/python3.10/dist-packages/sklearn/linear_model/_logistic.py:460: ConvergenceWarning: lbfgs failed to converge (status=1):\n",
            "STOP: TOTAL NO. of ITERATIONS REACHED LIMIT.\n",
            "\n",
            "Increase the number of iterations (max_iter) or scale the data as shown in:\n",
            "    https://scikit-learn.org/stable/modules/preprocessing.html\n",
            "Please also refer to the documentation for alternative solver options:\n",
            "    https://scikit-learn.org/stable/modules/linear_model.html#logistic-regression\n",
            "  n_iter_i = _check_optimize_result(\n"
          ]
        }
      ]
    },
    {
      "cell_type": "markdown",
      "source": [
        "***Data prediction***"
      ],
      "metadata": {
        "id": "Ilg87mLdXcW6"
      }
    },
    {
      "cell_type": "code",
      "source": [
        "print(\"~~~~~~~~~~~~~~~~~~~~~~~~~Data prediction~~~~~~~~~~~~~~~~~~~~\")\n",
        "print(\"\\n\")\n",
        "y_pred = model.predict(t_test)\n",
        "print(y_pred)"
      ],
      "metadata": {
        "colab": {
          "base_uri": "https://localhost:8080/"
        },
        "id": "sYdhr9kJXEG4",
        "outputId": "621a774c-71e7-49e6-de2a-598a0ba0b61d"
      },
      "execution_count": null,
      "outputs": [
        {
          "output_type": "stream",
          "name": "stdout",
          "text": [
            "~~~~~~~~~~~~~~~~~~~~~~~~~Data prediction~~~~~~~~~~~~~~~~~~~~\n",
            "\n",
            "\n",
            "[0 0 1 0 2 2 1 0 0 0 1 2 2 2 0 2 0 2 0 1 1 2 2 0 2 1 0 0 2 1]\n"
          ]
        }
      ]
    },
    {
      "cell_type": "code",
      "source": [
        "sepal_length = float(input(\"Enter sepal length: \"))\n",
        "sepal_width = float(input(\"Enter sepal width: \"))\n",
        "petal_length = float(input(\"Enter petal length: \"))\n",
        "petal_width = float(input(\"Enter petal width: \"))\n",
        "y_pred = model.predict([[sepal_length, sepal_width, petal_length, petal_width]])\n",
        "print(y_pred)\n"
      ],
      "metadata": {
        "colab": {
          "base_uri": "https://localhost:8080/"
        },
        "id": "tyZg_o1uYjcW",
        "outputId": "25703972-6490-4896-83ac-9ae770bc4338"
      },
      "execution_count": null,
      "outputs": [
        {
          "output_type": "stream",
          "name": "stdout",
          "text": [
            "Enter sepal length: 5.1\n",
            "Enter sepal width: 3.5\n",
            "Enter petal length: 1.4\n",
            "Enter petal width: 0.2\n",
            "[0]\n"
          ]
        },
        {
          "output_type": "stream",
          "name": "stderr",
          "text": [
            "/usr/local/lib/python3.10/dist-packages/sklearn/base.py:465: UserWarning: X does not have valid feature names, but LogisticRegression was fitted with feature names\n",
            "  warnings.warn(\n"
          ]
        }
      ]
    },
    {
      "cell_type": "markdown",
      "source": [
        "***Data accuracy***"
      ],
      "metadata": {
        "id": "s79D1Ey_Sk8k"
      }
    },
    {
      "cell_type": "code",
      "source": [
        "print(\"~~~~~~~~~~~~~~~~~~~~~~~~~Data accuracy score~~~~~~~~~~~~~~~~~~~~\")\n",
        "print(\"\\n\")\n",
        "from sklearn.metrics import accuracy_score\n",
        "accuracy = accuracy_score(y_test, y_pred)\n",
        "print(accuracy)"
      ],
      "metadata": {
        "colab": {
          "base_uri": "https://localhost:8080/"
        },
        "id": "zaPJNc3_RyU7",
        "outputId": "39b5c004-7e7e-4ae3-a85c-543cea12aeea"
      },
      "execution_count": null,
      "outputs": [
        {
          "output_type": "stream",
          "name": "stdout",
          "text": [
            "~~~~~~~~~~~~~~~~~~~~~~~~~Data accuracy score~~~~~~~~~~~~~~~~~~~~\n",
            "\n",
            "\n",
            "0.9333333333333333\n"
          ]
        }
      ]
    },
    {
      "cell_type": "code",
      "source": [],
      "metadata": {
        "id": "FLztJBKVTUo1"
      },
      "execution_count": null,
      "outputs": []
    }
  ]
}