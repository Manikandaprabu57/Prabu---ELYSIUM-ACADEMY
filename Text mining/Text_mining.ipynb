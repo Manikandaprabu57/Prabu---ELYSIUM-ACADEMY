{
  "nbformat": 4,
  "nbformat_minor": 0,
  "metadata": {
    "colab": {
      "provenance": []
    },
    "kernelspec": {
      "name": "python3",
      "display_name": "Python 3"
    },
    "language_info": {
      "name": "python"
    }
  },
  "cells": [
    {
      "cell_type": "markdown",
      "source": [
        "***Text mining***"
      ],
      "metadata": {
        "id": "j3qqeQxniYbI"
      }
    },
    {
      "cell_type": "code",
      "execution_count": null,
      "metadata": {
        "colab": {
          "base_uri": "https://localhost:8080/"
        },
        "id": "TKiGpeIagOYY",
        "outputId": "dba19b65-7224-49d1-f502-eb0df44114e9"
      },
      "outputs": [
        {
          "output_type": "stream",
          "name": "stdout",
          "text": [
            "~~~~~~~~~~~~~~~~~~~~~~  Text mining ~~~~~~~~~~~~~~~~~~~ \n",
            "\n",
            "enter the sentenceits waste of time\n",
            "sentiment: Negative\n"
          ]
        }
      ],
      "source": [
        "print(\"~~~~~~~~~~~~~~~~~~~~~~  Text mining ~~~~~~~~~~~~~~~~~~~\",\"\\n\")\n",
        "from textblob import TextBlob\n",
        "#sentiment analysis, text mining\n",
        "def predict_sentiment(text):\n",
        "  blob = TextBlob(text)\n",
        "  polarity = blob.sentiment.polarity\n",
        "  if polarity > 0:\n",
        "    return \"Positive\"\n",
        "  elif polarity < 0:\n",
        "    return \"Negative\"\n",
        "  else:\n",
        "    return \"Neutral\"\n",
        "def main():\n",
        "  #example text\n",
        "  text = input(\"enter the sentence\")\n",
        "  #predict sentiment\n",
        "  sentiment = predict_sentiment(text)\n",
        "\n",
        "  #output the sentiment prediction\n",
        "  print(\"sentiment:\",sentiment)\n",
        "main()"
      ]
    },
    {
      "source": [
        "!pip install vaderSentiment"
      ],
      "cell_type": "code",
      "metadata": {
        "colab": {
          "base_uri": "https://localhost:8080/"
        },
        "id": "WWEm9ClQmFFK",
        "outputId": "f213a51e-b4f3-41cf-80b4-218fd29ed201"
      },
      "execution_count": null,
      "outputs": [
        {
          "output_type": "stream",
          "name": "stdout",
          "text": [
            "Collecting vaderSentiment\n",
            "  Downloading vaderSentiment-3.3.2-py2.py3-none-any.whl.metadata (572 bytes)\n",
            "Requirement already satisfied: requests in /usr/local/lib/python3.10/dist-packages (from vaderSentiment) (2.32.3)\n",
            "Requirement already satisfied: charset-normalizer<4,>=2 in /usr/local/lib/python3.10/dist-packages (from requests->vaderSentiment) (3.3.2)\n",
            "Requirement already satisfied: idna<4,>=2.5 in /usr/local/lib/python3.10/dist-packages (from requests->vaderSentiment) (3.7)\n",
            "Requirement already satisfied: urllib3<3,>=1.21.1 in /usr/local/lib/python3.10/dist-packages (from requests->vaderSentiment) (2.0.7)\n",
            "Requirement already satisfied: certifi>=2017.4.17 in /usr/local/lib/python3.10/dist-packages (from requests->vaderSentiment) (2024.7.4)\n",
            "Downloading vaderSentiment-3.3.2-py2.py3-none-any.whl (125 kB)\n",
            "\u001b[2K   \u001b[90m━━━━━━━━━━━━━━━━━━━━━━━━━━━━━━━━━━━━━━━━\u001b[0m \u001b[32m126.0/126.0 kB\u001b[0m \u001b[31m3.4 MB/s\u001b[0m eta \u001b[36m0:00:00\u001b[0m\n",
            "\u001b[?25hInstalling collected packages: vaderSentiment\n",
            "Successfully installed vaderSentiment-3.3.2\n"
          ]
        }
      ]
    },
    {
      "cell_type": "markdown",
      "source": [
        "***Text Mining with scores***"
      ],
      "metadata": {
        "id": "oQwz22mdm0NH"
      }
    },
    {
      "cell_type": "code",
      "source": [
        "print(\"~~~~~~~~~~~~~~~~~~~~~~  Text mining ~~~~~~~~~~~~~~~~~~~\",\"\\n\")\n",
        "from vaderSentiment.vaderSentiment import SentimentIntensityAnalyzer\n",
        "# initialize the Vader sentiment analyzer\n",
        "analyzer = SentimentIntensityAnalyzer()\n",
        "#sample text\n",
        "text = input(\"Enter the statement\")\n",
        "#Analyzer the sentiment of the text\n",
        "sentiment_scores = analyzer.polarity_scores(text)\n",
        "#print the sentiment scores\n",
        "print(\"Sentiment Scores:\", sentiment_scores)"
      ],
      "metadata": {
        "colab": {
          "base_uri": "https://localhost:8080/"
        },
        "id": "gGMAC6OYh3v9",
        "outputId": "6458b132-b792-4610-9016-8a7f42c580ac"
      },
      "execution_count": null,
      "outputs": [
        {
          "output_type": "stream",
          "name": "stdout",
          "text": [
            "~~~~~~~~~~~~~~~~~~~~~~  Text mining ~~~~~~~~~~~~~~~~~~~ \n",
            "\n",
            "Enter the statementThis boy is very good\n",
            "Sentiment Scores: {'neg': 0.0, 'neu': 0.556, 'pos': 0.444, 'compound': 0.4927}\n"
          ]
        }
      ]
    },
    {
      "cell_type": "code",
      "source": [],
      "metadata": {
        "id": "1I4i5V3ul6oo"
      },
      "execution_count": null,
      "outputs": []
    }
  ]
}